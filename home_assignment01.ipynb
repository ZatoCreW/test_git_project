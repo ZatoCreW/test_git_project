{
 "cells": [
  {
   "cell_type": "code",
   "execution_count": null,
   "metadata": {},
   "outputs": [],
   "source": []
  },
  {
   "cell_type": "markdown",
   "metadata": {},
   "source": [
    "### Home assignment 01.\n",
    "\n",
    "Your goal is to follow this notebook and complete all the steps.\n",
    "\n",
    "Please, solve all these excersises (both on python and bash) _using the remote machine_: either in jupyter notebook or using bash.\n",
    "\n",
    "We ask you to start with signing this notebook in the following cell and printing some tech information. Please, just run the second cell without any changes.\n",
    "\n",
    "Good luck!"
   ]
  },
  {
   "cell_type": "code",
   "execution_count": 10,
   "metadata": {},
   "outputs": [],
   "source": [
    "first_name = 'Carles'\n",
    "last_name = 'Zato'"
   ]
  },
  {
   "cell_type": "code",
   "execution_count": 11,
   "metadata": {},
   "outputs": [
    {
     "name": "stdout",
     "output_type": "stream",
     "text": [
      "['/Users/karlos/Desktop/pythonds', '/Users/karlos/opt/anaconda3/lib/python37.zip', '/Users/karlos/opt/anaconda3/lib/python3.7', '/Users/karlos/opt/anaconda3/lib/python3.7/lib-dynload', '', '/Users/karlos/opt/anaconda3/lib/python3.7/site-packages', '/Users/karlos/opt/anaconda3/lib/python3.7/site-packages/aeosa', '/Users/karlos/opt/anaconda3/lib/python3.7/site-packages/IPython/extensions', '/Users/karlos/.ipython']\n",
      "3.7.6 (default, Jan  8 2020, 13:42:34) \n",
      "[Clang 4.0.1 (tags/RELEASE_401/final)]\n"
     ]
    }
   ],
   "source": [
    "import sys\n",
    "print(sys.path)\n",
    "print(sys.version)"
   ]
  },
  {
   "cell_type": "markdown",
   "metadata": {},
   "source": [
    "#### Excersise 0\n",
    "Import `this` and read the zen of Python."
   ]
  },
  {
   "cell_type": "code",
   "execution_count": 12,
   "metadata": {},
   "outputs": [],
   "source": [
    "import this"
   ]
  },
  {
   "cell_type": "code",
   "execution_count": 13,
   "metadata": {},
   "outputs": [],
   "source": [
    "student_has_read_zen_of_python = True\n",
    "assert student_has_read_zen_of_python"
   ]
  },
  {
   "cell_type": "markdown",
   "metadata": {},
   "source": [
    "#### Excersise 1\n",
    "\n",
    "Read the docs on `isinstance` method and check whether the following objects belong to the proposed types (hint: `isinstance`).\n",
    "\n",
    "Additional excersise: visualize this correspondance matrix (object – type), e.g. using numpy and [pcolormesh](https://matplotlib.org/stable/api/_as_gen/matplotlib.pyplot.pcolormesh.html) for visualization."
   ]
  },
  {
   "cell_type": "code",
   "execution_count": 19,
   "metadata": {},
   "outputs": [],
   "source": [
    "list_of_objects = [\n",
    "    int,\n",
    "    2,\n",
    "    2.,\n",
    "    None,\n",
    "    object,\n",
    "    str,\n",
    "    str(2.),\n",
    "    float('2.0'),\n",
    "    'hello',\n",
    "    this,\n",
    "    dict,\n",
    "    list,\n",
    "    [dict],\n",
    "    {1: []}\n",
    "]\n",
    "\n",
    "list_of_types = [\n",
    "    int,\n",
    "    float,\n",
    "    object,\n",
    "    #module,  # commented it out as it doesn't catch it as a type\n",
    "    str,\n",
    "    dict,\n",
    "    list\n",
    "]"
   ]
  },
  {
   "cell_type": "code",
   "execution_count": 20,
   "metadata": {},
   "outputs": [
    {
     "name": "stdout",
     "output_type": "stream",
     "text": [
      "<class 'int'> is not an instance of <class 'int'>\n",
      "<class 'int'> is not an instance of <class 'float'>\n",
      "<class 'int'> is an instance of <class 'object'>\n",
      "<class 'int'> is not an instance of <class 'str'>\n",
      "<class 'int'> is not an instance of <class 'dict'>\n",
      "<class 'int'> is not an instance of <class 'list'>\n",
      "2 is an instance of <class 'int'>\n",
      "2 is not an instance of <class 'float'>\n",
      "2 is an instance of <class 'object'>\n",
      "2 is not an instance of <class 'str'>\n",
      "2 is not an instance of <class 'dict'>\n",
      "2 is not an instance of <class 'list'>\n",
      "2.0 is not an instance of <class 'int'>\n",
      "2.0 is an instance of <class 'float'>\n",
      "2.0 is an instance of <class 'object'>\n",
      "2.0 is not an instance of <class 'str'>\n",
      "2.0 is not an instance of <class 'dict'>\n",
      "2.0 is not an instance of <class 'list'>\n",
      "None is not an instance of <class 'int'>\n",
      "None is not an instance of <class 'float'>\n",
      "None is an instance of <class 'object'>\n",
      "None is not an instance of <class 'str'>\n",
      "None is not an instance of <class 'dict'>\n",
      "None is not an instance of <class 'list'>\n",
      "<class 'object'> is not an instance of <class 'int'>\n",
      "<class 'object'> is not an instance of <class 'float'>\n",
      "<class 'object'> is an instance of <class 'object'>\n",
      "<class 'object'> is not an instance of <class 'str'>\n",
      "<class 'object'> is not an instance of <class 'dict'>\n",
      "<class 'object'> is not an instance of <class 'list'>\n",
      "<class 'str'> is not an instance of <class 'int'>\n",
      "<class 'str'> is not an instance of <class 'float'>\n",
      "<class 'str'> is an instance of <class 'object'>\n",
      "<class 'str'> is not an instance of <class 'str'>\n",
      "<class 'str'> is not an instance of <class 'dict'>\n",
      "<class 'str'> is not an instance of <class 'list'>\n",
      "2.0 is not an instance of <class 'int'>\n",
      "2.0 is not an instance of <class 'float'>\n",
      "2.0 is an instance of <class 'object'>\n",
      "2.0 is an instance of <class 'str'>\n",
      "2.0 is not an instance of <class 'dict'>\n",
      "2.0 is not an instance of <class 'list'>\n",
      "2.0 is not an instance of <class 'int'>\n",
      "2.0 is an instance of <class 'float'>\n",
      "2.0 is an instance of <class 'object'>\n",
      "2.0 is not an instance of <class 'str'>\n",
      "2.0 is not an instance of <class 'dict'>\n",
      "2.0 is not an instance of <class 'list'>\n",
      "hello is not an instance of <class 'int'>\n",
      "hello is not an instance of <class 'float'>\n",
      "hello is an instance of <class 'object'>\n",
      "hello is an instance of <class 'str'>\n",
      "hello is not an instance of <class 'dict'>\n",
      "hello is not an instance of <class 'list'>\n",
      "<module 'this' from '/Users/karlos/opt/anaconda3/lib/python3.7/this.py'> is not an instance of <class 'int'>\n",
      "<module 'this' from '/Users/karlos/opt/anaconda3/lib/python3.7/this.py'> is not an instance of <class 'float'>\n",
      "<module 'this' from '/Users/karlos/opt/anaconda3/lib/python3.7/this.py'> is an instance of <class 'object'>\n",
      "<module 'this' from '/Users/karlos/opt/anaconda3/lib/python3.7/this.py'> is not an instance of <class 'str'>\n",
      "<module 'this' from '/Users/karlos/opt/anaconda3/lib/python3.7/this.py'> is not an instance of <class 'dict'>\n",
      "<module 'this' from '/Users/karlos/opt/anaconda3/lib/python3.7/this.py'> is not an instance of <class 'list'>\n",
      "<class 'dict'> is not an instance of <class 'int'>\n",
      "<class 'dict'> is not an instance of <class 'float'>\n",
      "<class 'dict'> is an instance of <class 'object'>\n",
      "<class 'dict'> is not an instance of <class 'str'>\n",
      "<class 'dict'> is not an instance of <class 'dict'>\n",
      "<class 'dict'> is not an instance of <class 'list'>\n",
      "<class 'list'> is not an instance of <class 'int'>\n",
      "<class 'list'> is not an instance of <class 'float'>\n",
      "<class 'list'> is an instance of <class 'object'>\n",
      "<class 'list'> is not an instance of <class 'str'>\n",
      "<class 'list'> is not an instance of <class 'dict'>\n",
      "<class 'list'> is not an instance of <class 'list'>\n",
      "[<class 'dict'>] is not an instance of <class 'int'>\n",
      "[<class 'dict'>] is not an instance of <class 'float'>\n",
      "[<class 'dict'>] is an instance of <class 'object'>\n",
      "[<class 'dict'>] is not an instance of <class 'str'>\n",
      "[<class 'dict'>] is not an instance of <class 'dict'>\n",
      "[<class 'dict'>] is an instance of <class 'list'>\n",
      "{1: []} is not an instance of <class 'int'>\n",
      "{1: []} is not an instance of <class 'float'>\n",
      "{1: []} is an instance of <class 'object'>\n",
      "{1: []} is not an instance of <class 'str'>\n",
      "{1: []} is an instance of <class 'dict'>\n",
      "{1: []} is not an instance of <class 'list'>\n"
     ]
    }
   ],
   "source": [
    "# YOUR CODE HERE\n",
    "for obj in list_of_objects:\n",
    "    for typ in list_of_types:\n",
    "        if isinstance(obj, typ):\n",
    "            print(f'{obj} is an instance of {typ}')\n",
    "        else:\n",
    "            print(f'{obj} is not an instance of {typ}')"
   ]
  },
  {
   "cell_type": "markdown",
   "metadata": {},
   "source": [
    "#### Excersise 2\n",
    "\n",
    "Set quotient and remainder of 89 divided by 11 to \"a\" and \"b\" variables *"
   ]
  },
  {
   "cell_type": "code",
   "execution_count": 24,
   "metadata": {},
   "outputs": [
    {
     "name": "stdout",
     "output_type": "stream",
     "text": [
      "Quotient = 8, Remainder = 1\n"
     ]
    }
   ],
   "source": [
    "# YOUR CODE HERE\n",
    "a, b = 89 // 11, 89 % 11\n",
    "print(f'Quotient = {a}, Remainder = {b}')"
   ]
  },
  {
   "cell_type": "markdown",
   "metadata": {},
   "source": [
    "#### Excersise 3\n",
    "\n",
    "Calculate the next cells:\n",
    "```\n",
    "0) 10 ** 1000\n",
    "1) 1.0 / 10 ** 1000\n",
    "2) 1 / 10 ** 1000\n",
    "3) 10 ** 1000 / 1\n",
    "4) 1 / (1 / 10 ** 1000)\n",
    "```"
   ]
  },
  {
   "cell_type": "code",
   "execution_count": 37,
   "metadata": {},
   "outputs": [
    {
     "name": "stdout",
     "output_type": "stream",
     "text": [
      "10000000000000000000000000000000000000000000000000000000000000000000000000000000000000000000000000000000000000000000000000000000000000000000000000000000000000000000000000000000000000000000000000000000000000000000000000000000000000000000000000000000000000000000000000000000000000000000000000000000000000000000000000000000000000000000000000000000000000000000000000000000000000000000000000000000000000000000000000000000000000000000000000000000000000000000000000000000000000000000000000000000000000000000000000000000000000000000000000000000000000000000000000000000000000000000000000000000000000000000000000000000000000000000000000000000000000000000000000000000000000000000000000000000000000000000000000000000000000000000000000000000000000000000000000000000000000000000000000000000000000000000000000000000000000000000000000000000000000000000000000000000000000000000000000000000000000000000000000000000000000000000000000000000000000000000000000000000000000000000000000000000000000000000000000000000000000000\n"
     ]
    }
   ],
   "source": [
    "# 3.1\n",
    "print(10 ** 1000)\n",
    "# Looks alright"
   ]
  },
  {
   "cell_type": "code",
   "execution_count": 66,
   "metadata": {},
   "outputs": [
    {
     "ename": "OverflowError",
     "evalue": "int too large to convert to float",
     "output_type": "error",
     "traceback": [
      "\u001b[0;31m---------------------------------------------------------------------------\u001b[0m",
      "\u001b[0;31mOverflowError\u001b[0m                             Traceback (most recent call last)",
      "\u001b[0;32m<ipython-input-66-b7ce600f0dc1>\u001b[0m in \u001b[0;36m<module>\u001b[0;34m\u001b[0m\n\u001b[0;32m----> 1\u001b[0;31m \u001b[0mfloat\u001b[0m\u001b[0;34m(\u001b[0m\u001b[0;36m10\u001b[0m \u001b[0;34m**\u001b[0m \u001b[0;36m1000\u001b[0m\u001b[0;34m)\u001b[0m\u001b[0;34m\u001b[0m\u001b[0;34m\u001b[0m\u001b[0m\n\u001b[0m",
      "\u001b[0;31mOverflowError\u001b[0m: int too large to convert to float"
     ]
    }
   ],
   "source": [
    "# 3.2\n",
    "float(10 ** 1000)"
   ]
  },
  {
   "cell_type": "code",
   "execution_count": 47,
   "metadata": {},
   "outputs": [
    {
     "ename": "OverflowError",
     "evalue": "int too large to convert to float",
     "output_type": "error",
     "traceback": [
      "\u001b[0;31m---------------------------------------------------------------------------\u001b[0m",
      "\u001b[0;31mOverflowError\u001b[0m                             Traceback (most recent call last)",
      "\u001b[0;32m<ipython-input-47-144694321a5a>\u001b[0m in \u001b[0;36m<module>\u001b[0;34m\u001b[0m\n\u001b[0;32m----> 1\u001b[0;31m \u001b[0mprint\u001b[0m\u001b[0;34m(\u001b[0m\u001b[0;36m1.0\u001b[0m \u001b[0;34m/\u001b[0m \u001b[0;36m10\u001b[0m \u001b[0;34m**\u001b[0m \u001b[0;36m1000\u001b[0m\u001b[0;34m)\u001b[0m\u001b[0;34m\u001b[0m\u001b[0;34m\u001b[0m\u001b[0m\n\u001b[0m",
      "\u001b[0;31mOverflowError\u001b[0m: int too large to convert to float"
     ]
    }
   ],
   "source": [
    "# The main problem is that  10**1000 cannot be casted to float. \n",
    "# Decimal package offers correctly-rounded decimal floating point arithmetic\n",
    "from decimal import Decimal\n",
    "print((Decimal(1.0) / Decimal(10 ** 1000)))"
   ]
  },
  {
   "cell_type": "code",
   "execution_count": 67,
   "metadata": {},
   "outputs": [
    {
     "name": "stdout",
     "output_type": "stream",
     "text": [
      "0.0\n"
     ]
    }
   ],
   "source": [
    "# 3.3\n",
    "print(1 / 10 ** 1000)\n",
    "\n",
    "# Looks alright"
   ]
  },
  {
   "cell_type": "code",
   "execution_count": 69,
   "metadata": {
    "scrolled": true
   },
   "outputs": [
    {
     "ename": "OverflowError",
     "evalue": "integer division result too large for a float",
     "output_type": "error",
     "traceback": [
      "\u001b[0;31m---------------------------------------------------------------------------\u001b[0m",
      "\u001b[0;31mOverflowError\u001b[0m                             Traceback (most recent call last)",
      "\u001b[0;32m<ipython-input-69-9caa5d29f960>\u001b[0m in \u001b[0;36m<module>\u001b[0;34m\u001b[0m\n\u001b[0;32m----> 1\u001b[0;31m \u001b[0mprint\u001b[0m\u001b[0;34m(\u001b[0m\u001b[0;36m10\u001b[0m \u001b[0;34m**\u001b[0m \u001b[0;36m1000\u001b[0m \u001b[0;34m/\u001b[0m \u001b[0;36m1\u001b[0m\u001b[0;34m)\u001b[0m\u001b[0;34m\u001b[0m\u001b[0;34m\u001b[0m\u001b[0m\n\u001b[0m",
      "\u001b[0;31mOverflowError\u001b[0m: integer division result too large for a float"
     ]
    }
   ],
   "source": [
    "# 3.4\n",
    "print(10 ** 1000 / 1)"
   ]
  },
  {
   "cell_type": "code",
   "execution_count": 72,
   "metadata": {},
   "outputs": [
    {
     "name": "stdout",
     "output_type": "stream",
     "text": [
      "10000000000000000000000000000000000000000000000000000000000000000000000000000000000000000000000000000000000000000000000000000000000000000000000000000000000000000000000000000000000000000000000000000000000000000000000000000000000000000000000000000000000000000000000000000000000000000000000000000000000000000000000000000000000000000000000000000000000000000000000000000000000000000000000000000000000000000000000000000000000000000000000000000000000000000000000000000000000000000000000000000000000000000000000000000000000000000000000000000000000000000000000000000000000000000000000000000000000000000000000000000000000000000000000000000000000000000000000000000000000000000000000000000000000000000000000000000000000000000000000000000000000000000000000000000000000000000000000000000000000000000000000000000000000000000000000000000000000000000000000000000000000000000000000000000000000000000000000000000000000000000000000000000000000000000000000000000000000000000000000000000000000000000000000000000000000000000\n",
      "\n",
      "\n",
      "1.000000000000000000000000000E+1000\n"
     ]
    }
   ],
   "source": [
    "# Simlarly, the problem is that in Python floats have limited precision but\n",
    "# integers can usually be large. If we don't care about decimal precission we can approximate to integer\n",
    "print(10 ** 1000 // 1)\n",
    "print('\\n')\n",
    "\n",
    "# If we do care about float precission we can use Decimal again\n",
    "print(Decimal(10 ** 1000) / Decimal(1))"
   ]
  },
  {
   "cell_type": "code",
   "execution_count": 35,
   "metadata": {},
   "outputs": [
    {
     "ename": "ZeroDivisionError",
     "evalue": "float division by zero",
     "output_type": "error",
     "traceback": [
      "\u001b[0;31m---------------------------------------------------------------------------\u001b[0m",
      "\u001b[0;31mZeroDivisionError\u001b[0m                         Traceback (most recent call last)",
      "\u001b[0;32m<ipython-input-35-c617d72d10fa>\u001b[0m in \u001b[0;36m<module>\u001b[0;34m\u001b[0m\n\u001b[0;32m----> 1\u001b[0;31m \u001b[0mprint\u001b[0m\u001b[0;34m(\u001b[0m\u001b[0;36m1\u001b[0m \u001b[0;34m/\u001b[0m \u001b[0;34m(\u001b[0m\u001b[0;36m1\u001b[0m \u001b[0;34m/\u001b[0m \u001b[0;36m10\u001b[0m \u001b[0;34m**\u001b[0m \u001b[0;36m1000\u001b[0m\u001b[0;34m)\u001b[0m\u001b[0;34m)\u001b[0m\u001b[0;34m\u001b[0m\u001b[0;34m\u001b[0m\u001b[0m\n\u001b[0m",
      "\u001b[0;31mZeroDivisionError\u001b[0m: float division by zero"
     ]
    }
   ],
   "source": [
    "# 3.5\n",
    "print(1 / (1 / 10 ** 1000))"
   ]
  },
  {
   "cell_type": "code",
   "execution_count": 74,
   "metadata": {},
   "outputs": [
    {
     "name": "stdout",
     "output_type": "stream",
     "text": [
      "Dividing by zero or numbers close to zero is equal (+/-)infinity\n"
     ]
    }
   ],
   "source": [
    "# I would go for a good old try catch structure here\n",
    "try:\n",
    "    print(1 / (1 / 10 ** 1000))\n",
    "except ZeroDivisionError:\n",
    "    print('Dividing by zero or numbers close to zero is equal (+/-)infinity')"
   ]
  },
  {
   "cell_type": "markdown",
   "metadata": {},
   "source": [
    "How to avoid these behaviours to receive correct results in steps 1-4?\n",
    "\n",
    "It is enough to provide your thoughts / seach the web for decisions and share the links / point to specific constructions in Python which were constructed to solve this problem."
   ]
  },
  {
   "cell_type": "markdown",
   "metadata": {},
   "source": [
    "_Your answer here_"
   ]
  },
  {
   "cell_type": "markdown",
   "metadata": {},
   "source": [
    "#### Excersise 4.1\n",
    "\n",
    "Check if string is a correct integer\n"
   ]
  },
  {
   "cell_type": "code",
   "execution_count": 77,
   "metadata": {},
   "outputs": [
    {
     "name": "stdout",
     "output_type": "stream",
     "text": [
      "a\n",
      "You can only cast to integers strings formed by numerical values\n"
     ]
    }
   ],
   "source": [
    "# YOUR CODE HERE\n",
    "user_string = input()\n",
    "try:\n",
    "    print(int(user_string))\n",
    "except ValueError:\n",
    "    print('You can only cast to integers strings formed by numerical values')"
   ]
  },
  {
   "cell_type": "markdown",
   "metadata": {},
   "source": [
    "#### Excersise 4.2\n",
    "\n",
    "Create a palindrom from given string. For example, \"abc\" -> \"abcba\""
   ]
  },
  {
   "cell_type": "code",
   "execution_count": 87,
   "metadata": {},
   "outputs": [
    {
     "name": "stdout",
     "output_type": "stream",
     "text": [
      "ab\n"
     ]
    },
    {
     "data": {
      "text/plain": [
       "'abba'"
      ]
     },
     "execution_count": 87,
     "metadata": {},
     "output_type": "execute_result"
    }
   ],
   "source": [
    "# YOUR CODE HERE\n",
    "def create_palindrome(string):\n",
    "    output = string\n",
    "    for i in range(math.ceil(len(string) // 2), -1, -1):\n",
    "        output += string[i]\n",
    "    return output\n",
    "\n",
    "create_palindrome(input())"
   ]
  },
  {
   "cell_type": "markdown",
   "metadata": {},
   "source": [
    "#### Excersise 4.3\n",
    "\n",
    "User inputs one's name into \"name\" variable. One can use `lowercase`, `UPPERCASE`, or `sOmeTHingLikeThatCaSE`. You need to turn this string into regular case used with names: `Firstletterisbigothersaresmall`."
   ]
  },
  {
   "cell_type": "code",
   "execution_count": 96,
   "metadata": {},
   "outputs": [
    {
     "name": "stdout",
     "output_type": "stream",
     "text": [
      "Helloiamuser\n",
      "Johndeere\n",
      "Firstnamelastname\n"
     ]
    }
   ],
   "source": [
    "name1 = 'HellOIamUsER'\n",
    "name2 = 'johndeere'\n",
    "name3 = 'FIRSTNAMELASTNAME'\n",
    "\n",
    "# YOUR CODE HERE\n",
    "name_list = [name1, name2, name3]\n",
    "def pretty_print_name(name):\n",
    "    return name.capitalize()\n",
    "\n",
    "for name in name_list:\n",
    "    print(pretty_print_name(name))"
   ]
  },
  {
   "cell_type": "markdown",
   "metadata": {},
   "source": [
    "#### Excersise 4.4\n",
    "\n",
    "You have a string that consists of English letters and \".\", \",\", \"-\", \"!\", \"?\", \":\", \";\" symbols. Extract all words without punctuation from this string."
   ]
  },
  {
   "cell_type": "code",
   "execution_count": 101,
   "metadata": {},
   "outputs": [
    {
     "name": "stdout",
     "output_type": "stream",
     "text": [
      "asdf . asdf- asdf? pap\n",
      "asdf   asdf  asdf  pap\n"
     ]
    }
   ],
   "source": [
    "# YOUR CODE HERE\n",
    "import re\n",
    "input_string = input()\n",
    "print( re.sub(r'[^\\w]', ' ', input_string))"
   ]
  },
  {
   "cell_type": "markdown",
   "metadata": {},
   "source": [
    "#### Excersise 4.5\n",
    "\n",
    "Assign string `\"\"\"'''\\/'''\"\"\"` to Python variable (all 14 symbols)\n"
   ]
  },
  {
   "cell_type": "code",
   "execution_count": 103,
   "metadata": {},
   "outputs": [
    {
     "name": "stdout",
     "output_type": "stream",
     "text": [
      "\"\"\"'''\\/'''\"\"\"\n"
     ]
    }
   ],
   "source": [
    "# YOUR CODE HERE\n",
    "fked_up_string = '\\\"\\\"\\\"\\'\\'\\'\\\\/\\'\\'\\'\\\"\\\"\\\"'\n",
    "print(fked_up_string)"
   ]
  },
  {
   "cell_type": "markdown",
   "metadata": {},
   "source": [
    "#### Excersise 4.6\n",
    "\n",
    "Print pi number in a string  \"pi is approximately equal to ALMOSTPI\", where instead of ALMOSTPI you insert 22/7 with 3 digits after comma."
   ]
  },
  {
   "cell_type": "code",
   "execution_count": 106,
   "metadata": {},
   "outputs": [
    {
     "name": "stdout",
     "output_type": "stream",
     "text": [
      "Pi is approxiately 3.143\n"
     ]
    }
   ],
   "source": [
    "# YOUR CODE HERE\n",
    "ALMOSTPI = round(22/7, 3)\n",
    "print(f'Pi is approxiately {ALMOSTPI}')"
   ]
  },
  {
   "cell_type": "markdown",
   "metadata": {},
   "source": [
    "#### Excersise 5\n",
    "\n",
    "You have multiline text inside string variable named `text`. Create list of lines from that text."
   ]
  },
  {
   "cell_type": "code",
   "execution_count": 111,
   "metadata": {},
   "outputs": [
    {
     "data": {
      "text/plain": [
       "['Hello world,', 'this is a ', 'multiline text.']"
      ]
     },
     "execution_count": 111,
     "metadata": {},
     "output_type": "execute_result"
    }
   ],
   "source": [
    "# YOUR CODE HERE\n",
    "text=\"\"\"Hello world,\n",
    "this is a \n",
    "multiline text.\"\"\"\n",
    "\n",
    "text.split('\\n')"
   ]
  },
  {
   "cell_type": "markdown",
   "metadata": {},
   "source": [
    "#### Excersise 5\n",
    "Answer with your own words to one of the following questions. Your variant is based on your name and computed automatically in the next cell.\n",
    "\n",
    "Variant 1:\n",
    "Imagine, you are developing a vending machine. You need to keep your vending machine state: which items are presented on which shelves, how much money inside machine to give change, how much money user inserted in current time, which purchases users made etc. You need to create a data structure for that using known data types.\n",
    "\n",
    "Variant 2:\n",
    "Imagine, you are developing a messenger with direct messages, groups, different media types of messages, etc. You need to keep your messenger state in memory: all users with their data, which chats they have, etc. You need to create a data structure for that using known data types.\n",
    "\n",
    "Variant 3:\n",
    "Imagine, you are developing a staff management system for a mid-size corporation. You need to keep all organizational structure in memory: departments, employees, their personal data, positions, salaries, history of growth, who is whose boss, etc. You need to create a data structure for that using known data types."
   ]
  },
  {
   "cell_type": "code",
   "execution_count": 112,
   "metadata": {},
   "outputs": [
    {
     "name": "stdout",
     "output_type": "stream",
     "text": [
      "Your variant is 3\n"
     ]
    }
   ],
   "source": [
    "variant = hash(' '.join([first_name, last_name])) % 3 + 1\n",
    "print(f'Your variant is {variant}')"
   ]
  },
  {
   "cell_type": "markdown",
   "metadata": {},
   "source": [
    "Answer: I would use a tree data structure as both trees and stuff have a natural hierarchical structure, which is convinient. Also, trees generally allow us to do searches in logarithmic time, which is not bad."
   ]
  },
  {
   "cell_type": "markdown",
   "metadata": {},
   "source": [
    "#### Excersise 6\n",
    "\n",
    "Clear your current repository (remove all useless files).\n",
    "Then create a package named `assignment01`.\n",
    "\n",
    "In the `assignment01` package you should have two `.py` files:\n",
    "\n",
    "```\n",
    "get_date.py\n",
    "get_time.py\n",
    "```\n",
    "File `get_date.py` contains only function `ding()` which returns the current date in format `yyyy-mm-dd`\n",
    "\n",
    "File `get_date.py` contains only function `dong()` which  returns the current time in 24h format `hh:mm:ss`\n",
    "\n",
    "Import these files and call the functions in the next cell."
   ]
  },
  {
   "cell_type": "code",
   "execution_count": null,
   "metadata": {},
   "outputs": [],
   "source": [
    "# YOUR CODE HERE"
   ]
  },
  {
   "cell_type": "markdown",
   "metadata": {},
   "source": [
    "#### Excersise 7\n",
    "\n",
    "Create the `.gitignore` file in the current repository and enshure git will ignore jupyter notebook checkpoints (hint: check the hidden directories) and python cache."
   ]
  },
  {
   "cell_type": "markdown",
   "metadata": {},
   "source": [
    "_Here you should interact with the command prompt_"
   ]
  },
  {
   "cell_type": "markdown",
   "metadata": {},
   "source": [
    "#### Excersise 8\n",
    "Create folder `shell_tools` in your repository.\n",
    "\n",
    "Solve the excersises from [this lesson](https://missing.csail.mit.edu/2020/shell-tools/) from the brilliant course by MIT: https://missing.csail.mit.edu\n",
    "\n",
    "Place your solutions in the `shell_tools` directory. It should contain one file for each step except step 2 (named `step0*`) with bash commands. Step 2 already requires you to write `marco` and `polo` scripts)."
   ]
  },
  {
   "cell_type": "markdown",
   "metadata": {},
   "source": [
    "_Here you should interact with the command prompt_"
   ]
  },
  {
   "cell_type": "markdown",
   "metadata": {},
   "source": [
    "#### Excersise 9\n",
    "\n",
    "Move this notebook to the repository directory (unless it is already there), commit and push all updates to the remote. Thes sync it to the local machine and check that this exact notebook runs (Kernel –> Restart and run all) without any changes."
   ]
  },
  {
   "cell_type": "code",
   "execution_count": null,
   "metadata": {},
   "outputs": [],
   "source": [
    "notebook_runs_on_local_machine_without_any_changes = # True or False\n",
    "assert notebook_runs_on_local_machine_without_any_changes"
   ]
  },
  {
   "cell_type": "markdown",
   "metadata": {},
   "source": [
    "### Sumbitting your home assignment\n",
    "Push your results to the remote repository and share the link to it in the Google Classroom.\n",
    "\n",
    "Congratulations!"
   ]
  }
 ],
 "metadata": {
  "kernelspec": {
   "display_name": "Python 3",
   "language": "python",
   "name": "python3"
  },
  "language_info": {
   "codemirror_mode": {
    "name": "ipython",
    "version": 3
   },
   "file_extension": ".py",
   "mimetype": "text/x-python",
   "name": "python",
   "nbconvert_exporter": "python",
   "pygments_lexer": "ipython3",
   "version": "3.7.6"
  }
 },
 "nbformat": 4,
 "nbformat_minor": 4
}
