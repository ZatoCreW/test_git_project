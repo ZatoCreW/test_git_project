{
 "cells": [
  {
   "cell_type": "markdown",
   "metadata": {
    "id": "_9j_aLkqSrBi"
   },
   "source": [
    "To generate random data in Python using a [random](https://pynative.com/python/random/) module "
   ]
  },
  {
   "cell_type": "code",
   "execution_count": 1,
   "metadata": {
    "id": "xMl6GayDUCB4"
   },
   "outputs": [],
   "source": [
    "import random\n",
    "import math"
   ]
  },
  {
   "cell_type": "code",
   "execution_count": 2,
   "metadata": {
    "colab": {
     "base_uri": "https://localhost:8080/"
    },
    "id": "iWcfhc6JhT4D",
    "outputId": "2e6d0280-d3a8-4742-aec4-2eb6e67e16cc"
   },
   "outputs": [
    {
     "name": "stdout",
     "output_type": "stream",
     "text": [
      "Python 3.9.5\r\n"
     ]
    }
   ],
   "source": [
    "!python --version"
   ]
  },
  {
   "cell_type": "markdown",
   "metadata": {
    "id": "QMlUzOq0oAI5"
   },
   "source": [
    "### Exercise 1\n",
    "You have a list a = [1, 1, 2, 3, 5, 6, 13, 21, 34, 55, 89].\n",
    "\n",
    "Print all even elements and sum."
   ]
  },
  {
   "cell_type": "code",
   "execution_count": 30,
   "metadata": {
    "id": "rwJIfKOdnfGW"
   },
   "outputs": [
    {
     "name": "stdout",
     "output_type": "stream",
     "text": [
      "2\n",
      "6\n",
      "34\n",
      "42\n"
     ]
    }
   ],
   "source": [
    "a = [1, 1, 2, 3, 5, 6, 13, 21, 34, 55, 89]\n",
    "# your code here\n",
    "SUM = 0\n",
    "for number in a:\n",
    "    if number % 2 == 0:\n",
    "        print(number)\n",
    "        SUM += number # Sum of even numbers I guess\n",
    "print(SUM)"
   ]
  },
  {
   "cell_type": "markdown",
   "metadata": {
    "id": "0PxuwdtZoB9-"
   },
   "source": [
    "### Exercise 2\n",
    "Print a list that consists of the common elements of the two lists."
   ]
  },
  {
   "cell_type": "code",
   "execution_count": 4,
   "metadata": {
    "id": "9T9ue6_h-RA0"
   },
   "outputs": [
    {
     "name": "stdout",
     "output_type": "stream",
     "text": [
      "[1, 2, 3, 5, 6, 13]\n"
     ]
    }
   ],
   "source": [
    "a = [1, 1, 2, 3, 5, 6, 13, 21, 34, 55, 89]\n",
    "b = [1, 2, 3, 4, 5, 6, 7, 8, 9, 10, 11, 12, 13]\n",
    "# your code here\n",
    "common_elements = []\n",
    "for x in a:\n",
    "    for y in b:\n",
    "        if y == x and y not in common_elements:\n",
    "            common_elements.append(y)\n",
    "print(common_elements)"
   ]
  },
  {
   "cell_type": "markdown",
   "metadata": {
    "id": "D-7vU_xMoGXW"
   },
   "source": [
    "### Exercise 3\n",
    "Print the first n lines of [Pascal's triangle](https://en.wikipedia.org/wiki/Pascal%27s_triangle). The view can be not formatted, that is, just print lines from Pascal's triangle."
   ]
  },
  {
   "cell_type": "code",
   "execution_count": 6,
   "metadata": {
    "id": "ORxlMF5XoHaf"
   },
   "outputs": [
    {
     "name": "stdout",
     "output_type": "stream",
     "text": [
      "Enter the number of lines: 5\n",
      "[[1], [1, 1], [1, 2, 1], [1, 3, 3, 1], [1, 4, 6, 4, 1]]\n"
     ]
    }
   ],
   "source": [
    "n = int(input('Enter the number of lines: '))\n",
    "# your code here\n",
    "triangle = []\n",
    "for i in range(n):\n",
    "    line_i = [0]*(i+1)\n",
    "    line_i[0] = 1\n",
    "    line_i[len(line_i)-1] = 1\n",
    "    if i <= 1:\n",
    "        triangle.append(line_i)\n",
    "    else:\n",
    "        for j in range(i):\n",
    "            if j != 0 and j != n-1:\n",
    "                line_i[j] = triangle[i-1][j] + triangle[i-1][j-1]\n",
    "        triangle.append(line_i)\n",
    "print(triangle)\n",
    "\n",
    "# 1\n",
    "# 1 1\n",
    "# 1 2 1\n",
    "# 1 3 3 1\n",
    "# 1 4 6 4 1"
   ]
  },
  {
   "cell_type": "markdown",
   "metadata": {
    "id": "LZFh27IYoH-M"
   },
   "source": [
    "### Exercise 4\n",
    "Check if the string is a palindrome."
   ]
  },
  {
   "cell_type": "code",
   "execution_count": 7,
   "metadata": {
    "id": "dbmC6TJNTERJ"
   },
   "outputs": [
    {
     "name": "stdout",
     "output_type": "stream",
     "text": [
      "Enter the string: abba\n"
     ]
    },
    {
     "data": {
      "text/plain": [
       "True"
      ]
     },
     "execution_count": 7,
     "metadata": {},
     "output_type": "execute_result"
    }
   ],
   "source": [
    "string = input('Enter the string: ')\n",
    "# your code here\n",
    "def check_palindrome(word):\n",
    "    if len(word) % 2 != 0:\n",
    "        mid_char = len(word) // 2\n",
    "        word = word[:mid_char] + word[mid_char+1:]\n",
    "    idx_1 = 0\n",
    "    idx_2 = len(word)-1\n",
    "    for i in range(len(word)//2):\n",
    "        if word[idx_1] != word[idx_2]:\n",
    "            return False\n",
    "        idx_1 += 1\n",
    "        idx_2 -= 1\n",
    "    return True\n",
    "\n",
    "check_palindrome(string)"
   ]
  },
  {
   "cell_type": "markdown",
   "metadata": {
    "id": "0dG5QsDnoJw4"
   },
   "source": [
    "### Exercise 5\n",
    "Convert seconds to days:hours:minutes:seconds (without using datetime)"
   ]
  },
  {
   "cell_type": "code",
   "execution_count": 8,
   "metadata": {
    "id": "riZL3l86TJ2Z"
   },
   "outputs": [
    {
     "name": "stdout",
     "output_type": "stream",
     "text": [
      "Number of seconds: 23452\n",
      "6:30:52\n"
     ]
    }
   ],
   "source": [
    "seconds = int(input(\"Number of seconds: \"))\n",
    "# your code here\n",
    "minutes = seconds // 60\n",
    "secs = seconds % 60 \n",
    "hours = minutes // 60\n",
    "mins = minutes % 60\n",
    "print(f'{hours}:{mins}:{secs}')"
   ]
  },
  {
   "cell_type": "markdown",
   "metadata": {
    "id": "nBVW10zzoLN-"
   },
   "source": [
    "### Exercise 6\n",
    "You accept a comma-separated sequence of numbers from the user. Make a list and tuple of these numbers."
   ]
  },
  {
   "cell_type": "code",
   "execution_count": 9,
   "metadata": {
    "id": "x--lqdQOoMSG"
   },
   "outputs": [
    {
     "name": "stdout",
     "output_type": "stream",
     "text": [
      "Enter the sequence: 1, 2, 3,4\n",
      "['1', ' 2', ' 3', '4']\n",
      "('1', ' 2', ' 3', '4')\n"
     ]
    }
   ],
   "source": [
    "sequence = input(\"Enter the sequence: \")\n",
    "# your code here\n",
    "lst = sequence.split(',')\n",
    "tpl = tuple(sequence.split(','))\n",
    "print(lst)\n",
    "print(tpl)"
   ]
  },
  {
   "cell_type": "markdown",
   "metadata": {
    "id": "LX80ZS4VoMt_"
   },
   "source": [
    "### Exercise 7\n",
    "Print the first and last element of a list filled with N random integers."
   ]
  },
  {
   "cell_type": "code",
   "execution_count": 10,
   "metadata": {
    "id": "O16WVyH2TfRO"
   },
   "outputs": [
    {
     "name": "stdout",
     "output_type": "stream",
     "text": [
      "5\n",
      "[8, 7, 8, 2, 9]\n",
      "8 9\n"
     ]
    }
   ],
   "source": [
    "N = int(input())\n",
    "# your code here\n",
    "rdm_ints = [random.randint(0, 9) for i in range(N)]\n",
    "print(rdm_ints)\n",
    "print(rdm_ints[0], rdm_ints[-1])"
   ]
  },
  {
   "cell_type": "markdown",
   "metadata": {
    "id": "RONwF247oOGw"
   },
   "source": [
    "### Exercise 8\n",
    "Print the file extension. If it cannot be determined, print \"no extension\"."
   ]
  },
  {
   "cell_type": "code",
   "execution_count": 33,
   "metadata": {
    "id": "zXm-h5SlUPlF"
   },
   "outputs": [
    {
     "name": "stdout",
     "output_type": "stream",
     "text": [
      "File name: \n",
      "casd.csv\n",
      "csv\n"
     ]
    }
   ],
   "source": [
    "filename = input('File name: \\n')\n",
    "# your code here\n",
    "try:\n",
    "    file_name, extension = filename.split('.')\n",
    "    print(extension)\n",
    "except ValueError:\n",
    "    print('No extension')"
   ]
  },
  {
   "cell_type": "markdown",
   "metadata": {
    "id": "Imewfx3UphZG"
   },
   "source": [
    "### Exercise 9\n",
    "Add up the digits of the given integer."
   ]
  },
  {
   "cell_type": "code",
   "execution_count": 12,
   "metadata": {
    "id": "S0prYFkypjMD"
   },
   "outputs": [
    {
     "name": "stdout",
     "output_type": "stream",
     "text": [
      "15\n"
     ]
    }
   ],
   "source": [
    "x = 12345\n",
    "# your code here\n",
    "result = 0\n",
    "for number in str(x):\n",
    "    result += int(number)\n",
    "print(result)"
   ]
  },
  {
   "cell_type": "markdown",
   "metadata": {
    "id": "tx0wApZupk05"
   },
   "source": [
    "### Exercise 10\n",
    "Сreate two lists of size 20 containing random integers from the segment [0, 30], prints them to the screen and all elements of the first that are not in the second."
   ]
  },
  {
   "cell_type": "code",
   "execution_count": 13,
   "metadata": {
    "id": "MkC_sLdRpoG7"
   },
   "outputs": [
    {
     "name": "stdout",
     "output_type": "stream",
     "text": [
      "[15, 5, 30, 29, 11, 25, 18, 13, 3, 18, 1, 11, 19, 6, 10, 7, 28, 16, 3, 9]\n",
      "[0, 15, 21, 3, 14, 8, 24, 24, 9, 11, 16, 14, 19, 5, 18, 14, 29, 11, 16, 11]\n",
      "[30, 25, 13, 1, 6, 10, 7, 28]\n"
     ]
    }
   ],
   "source": [
    "# your code here\n",
    "lst1 = [random.randint(0, 30) for i in range(20)]\n",
    "lst2 = [random.randint(0, 30) for i in range(20)]\n",
    "\n",
    "print(lst1)\n",
    "print(lst2)\n",
    "\n",
    "not_in_lst2 = []\n",
    "for i in range(20):\n",
    "    for j in range(20):\n",
    "        if lst1[i] not in lst2 and lst1[i] not in not_in_lst2:\n",
    "            not_in_lst2.append(lst1[i])\n",
    "print(not_in_lst2)"
   ]
  },
  {
   "cell_type": "markdown",
   "metadata": {
    "id": "PO9NF3IBpoxz"
   },
   "source": [
    "### Exercise 11\n",
    "Find the number of divisors of a given integer."
   ]
  },
  {
   "cell_type": "code",
   "execution_count": 34,
   "metadata": {
    "id": "6pqgc99LprzC"
   },
   "outputs": [
    {
     "name": "stdout",
     "output_type": "stream",
     "text": [
      "12\n",
      "6\n"
     ]
    }
   ],
   "source": [
    "integer = int(input())\n",
    "# your code here\n",
    "divisors = [i for i in range(1, integer+1) if integer % i == 0]\n",
    "print(len(divisors))"
   ]
  },
  {
   "cell_type": "markdown",
   "metadata": {
    "id": "0lMCVueRpsae"
   },
   "source": [
    "### Exercise 12\n",
    "Count input letter in the input string."
   ]
  },
  {
   "cell_type": "code",
   "execution_count": 26,
   "metadata": {
    "id": "u-x80kjLQIVg"
   },
   "outputs": [
    {
     "name": "stdout",
     "output_type": "stream",
     "text": [
      "string: alaska\n",
      "letter: a\n",
      "3\n"
     ]
    }
   ],
   "source": [
    "string = input('string: ')\n",
    "letter = input('letter: ')\n",
    "# your code here\n",
    "count = 0\n",
    "for c in string:\n",
    "    if c == letter:\n",
    "        count += 1\n",
    "print(count)"
   ]
  },
  {
   "cell_type": "markdown",
   "metadata": {
    "id": "FF0C3-cTp0uy"
   },
   "source": [
    "### Exercise 13\n",
    "Just swap the values "
   ]
  },
  {
   "cell_type": "code",
   "execution_count": 16,
   "metadata": {
    "id": "KRHJfO1dcwNr"
   },
   "outputs": [
    {
     "name": "stdout",
     "output_type": "stream",
     "text": [
      "1\n",
      "2\n",
      "2\n",
      "1\n"
     ]
    }
   ],
   "source": [
    "var1 = input()\n",
    "var2 = input()\n",
    "# your code here\n",
    "var1, var2 = var2, var1\n",
    "print(var1)\n",
    "print(var2)"
   ]
  },
  {
   "cell_type": "markdown",
   "metadata": {
    "id": "I2x5B2_Np9kO"
   },
   "source": [
    "### Exercise 14\n",
    "You need to check if all the numbers in the sequence are unique. The sequence consists of integers entered from the keyboard. The end of the input is the `'#'` symbol."
   ]
  },
  {
   "cell_type": "code",
   "execution_count": 29,
   "metadata": {
    "id": "gsiB8H61p_Bb"
   },
   "outputs": [
    {
     "name": "stdout",
     "output_type": "stream",
     "text": [
      "123\n",
      "234\n",
      "#\n",
      "All elements in the sequence are unique\n"
     ]
    }
   ],
   "source": [
    "# your code here\n",
    "read = True\n",
    "unique = True\n",
    "lst = []\n",
    "while read:\n",
    "    inp = input()\n",
    "    if inp in lst:\n",
    "        unique = False\n",
    "    lst.append(inp)\n",
    "    if inp == '#':\n",
    "        read = False\n",
    "if unique:\n",
    "    print('All elements in the sequence are unique')\n",
    "else:\n",
    "    print('Not all elements in the sequence are unique')"
   ]
  },
  {
   "cell_type": "markdown",
   "metadata": {
    "id": "hiPumXgoZtPS"
   },
   "source": [
    "### Exercise 15\n",
    "\n",
    "Create two built-in frozenset objects from strings `'reversed question'` and `'answer'`, and try to make them keys in the dct dictionary for the strings `'? Tesnezorf dna tes neewteb ecnereffid niam eht si tahw'` and **`'<your answer to the question>'`**, respectively. There is no need to reverse the answer. Finally, print out the dct dictionary."
   ]
  },
  {
   "cell_type": "code",
   "execution_count": 18,
   "metadata": {
    "id": "raWWJ0h_77_B"
   },
   "outputs": [],
   "source": [
    "dct1 = {}"
   ]
  },
  {
   "cell_type": "code",
   "execution_count": 19,
   "metadata": {
    "id": "1Jp2fm0jaChM"
   },
   "outputs": [
    {
     "name": "stdout",
     "output_type": "stream",
     "text": [
      "{frozenset({'o', 'r', ' ', 'u', 'n', 'v', 'e', 'i', 't', 'q', 's', 'd'}): '? Tesnezorf dna tes neewteb ecnereffid niam eht si tahw', frozenset({'a', 'w', 'r', 'n', 'e', 's'}): 'Frozensets are immutable and sets are not'}\n"
     ]
    }
   ],
   "source": [
    "# your code here\n",
    "q = frozenset('reversed question')\n",
    "a = frozenset('answer')\n",
    "\n",
    "dct1[q] = '? Tesnezorf dna tes neewteb ecnereffid niam eht si tahw'\n",
    "dct1[a] = 'Frozensets are immutable and sets are not'\n",
    "\n",
    "print(dct1)"
   ]
  },
  {
   "cell_type": "markdown",
   "metadata": {
    "id": "wIXXdtGdaMhF"
   },
   "source": [
    "### Exercise 16\n",
    "\n",
    "Find the area of a circle. You can use const `'pi'` from `'math'` module "
   ]
  },
  {
   "cell_type": "code",
   "execution_count": 20,
   "metadata": {
    "id": "QGSPfMB-anqX"
   },
   "outputs": [
    {
     "name": "stdout",
     "output_type": "stream",
     "text": [
      "2\n",
      "19.739208802178716\n"
     ]
    }
   ],
   "source": [
    "r = float(input())\n",
    "# your code here\n",
    "area = r*math.pi**2\n",
    "print(area)"
   ]
  },
  {
   "cell_type": "markdown",
   "metadata": {
    "id": "Dj3SgDdLahaZ"
   },
   "source": [
    "### Exercise 17\n",
    "\n",
    "Swap keys and values."
   ]
  },
  {
   "cell_type": "code",
   "execution_count": 22,
   "metadata": {
    "colab": {
     "base_uri": "https://localhost:8080/"
    },
    "id": "jVi685NrawKc",
    "outputId": "bd0912e5-7e38-4ecc-981a-cc6242cdb5b0"
   },
   "outputs": [
    {
     "name": "stdout",
     "output_type": "stream",
     "text": [
      "{0: 0, 1: 1, 2: 4, 3: 9, 4: 16, 5: 25, 6: 36, 7: 49, 8: 64, 9: 81}\n",
      "{0: 0, 1: 1, 4: 2, 9: 3, 16: 4, 25: 5, 36: 6, 49: 7, 64: 8, 81: 9}\n"
     ]
    }
   ],
   "source": [
    "dct2 = {x: x ** 2 for x in range(10)}\n",
    "print(dct2)\n",
    "# your code here\n",
    "dct2 = dict((v, k) for k, v in dct2.items())\n",
    "print(dct2)"
   ]
  },
  {
   "cell_type": "markdown",
   "metadata": {
    "id": "bSkROdzbbDPT"
   },
   "source": [
    "### Exercise 18\n",
    "\n",
    "Create a variable that stores the description of this task as a string, separate the words, and convert to LOWERCASE."
   ]
  },
  {
   "cell_type": "code",
   "execution_count": 23,
   "metadata": {
    "id": "QLQuRJ5fbHyG"
   },
   "outputs": [
    {
     "data": {
      "text/plain": [
       "['create',\n",
       " 'a',\n",
       " 'variable',\n",
       " 'that',\n",
       " 'stores',\n",
       " 'the',\n",
       " 'description',\n",
       " 'of',\n",
       " 'this',\n",
       " 'task',\n",
       " 'as',\n",
       " 'a',\n",
       " 'string,',\n",
       " 'separate',\n",
       " 'the',\n",
       " 'words,',\n",
       " 'and',\n",
       " 'convert',\n",
       " 'to',\n",
       " 'lowercase.']"
      ]
     },
     "execution_count": 23,
     "metadata": {},
     "output_type": "execute_result"
    }
   ],
   "source": [
    "# your code here\n",
    "string = 'Create a variable that stores the description of this task as a string, separate the words, and convert to LOWERCASE.'\n",
    "description = string.lower().split()\n",
    "description"
   ]
  },
  {
   "cell_type": "markdown",
   "metadata": {
    "id": "xDwSLToobQIJ"
   },
   "source": [
    "### Exercise 19\n",
    "Print the sorted words from the previous exercise in reverse lexicographical order."
   ]
  },
  {
   "cell_type": "code",
   "execution_count": 24,
   "metadata": {
    "id": "QqEMRS9NbST0"
   },
   "outputs": [
    {
     "name": "stdout",
     "output_type": "stream",
     "text": [
      "['words,', 'variable', 'to', 'this', 'the', 'the', 'that', 'task', 'string,', 'stores', 'separate', 'of', 'lowercase.', 'description', 'create', 'convert', 'as', 'and', 'a', 'a']\n"
     ]
    }
   ],
   "source": [
    "# your code here\n",
    "print(sorted(description, reverse=True))"
   ]
  },
  {
   "cell_type": "markdown",
   "metadata": {
    "id": "rO-Amdrhbfc5"
   },
   "source": [
    "### Exercise 20\n",
    "\n",
    "Write code that reverses all odd-numbered elements of lst in reverse order.\n",
    "\n",
    "That is, if lst = [0, 1, 2, 3, 4, 5, 6, 7, 8, 9], then you should get [0, 9, 2, 7, 4, 5, 6, 3, 8, 1]"
   ]
  },
  {
   "cell_type": "code",
   "execution_count": 25,
   "metadata": {
    "id": "e3SdQqGLbnI9"
   },
   "outputs": [
    {
     "name": "stdout",
     "output_type": "stream",
     "text": [
      "[0, 9, 2, 7, 4, 5, 6, 3, 8, 1]\n"
     ]
    }
   ],
   "source": [
    "# your code here\n",
    "lst = [0, 1, 2, 3, 4, 5, 6, 7, 8, 9]\n",
    "odd_numbers = []\n",
    "odd_idxs = []\n",
    "for i in range(len(lst)):\n",
    "    if lst[i] % 2 != 0:\n",
    "        odd_numbers.append(lst[i])\n",
    "        odd_idxs.append(i)\n",
    "        \n",
    "odd_numbers.reverse()\n",
    "for i in range(len(odd_idxs)):\n",
    "    lst[odd_idxs[i]] = odd_numbers[i]\n",
    "print(lst)"
   ]
  }
 ],
 "metadata": {
  "accelerator": "GPU",
  "colab": {
   "collapsed_sections": [],
   "name": "home_assignment_02",
   "provenance": []
  },
  "kernelspec": {
   "display_name": "Python 3",
   "language": "python",
   "name": "python3"
  },
  "language_info": {
   "codemirror_mode": {
    "name": "ipython",
    "version": 3
   },
   "file_extension": ".py",
   "mimetype": "text/x-python",
   "name": "python",
   "nbconvert_exporter": "python",
   "pygments_lexer": "ipython3",
   "version": "3.7.6"
  }
 },
 "nbformat": 4,
 "nbformat_minor": 1
}
